{
 "cells": [
  {
   "cell_type": "code",
   "execution_count": null,
   "id": "3c183fb8-25f4-4564-b5e8-ff3553bdcff7",
   "metadata": {},
   "outputs": [],
   "source": [
    "import subprocess\n",
    "\n",
    "# Lancer l'API\n",
    "subprocess.Popen([\"python\", \"API_01_G4.py\"])\n",
    "\n",
    "# Ensuite lancer le dashboard\n",
    "subprocess.run([\"streamlit\", \"run\", \"Dashboard_01_G4.py\"])\n"
   ]
  }
 ],
 "metadata": {
  "kernelspec": {
   "display_name": "Python 3 (ipykernel)",
   "language": "python",
   "name": "python3"
  },
  "language_info": {
   "codemirror_mode": {
    "name": "ipython",
    "version": 3
   },
   "file_extension": ".py",
   "mimetype": "text/x-python",
   "name": "python",
   "nbconvert_exporter": "python",
   "pygments_lexer": "ipython3",
   "version": "3.10.16"
  }
 },
 "nbformat": 4,
 "nbformat_minor": 5
}
